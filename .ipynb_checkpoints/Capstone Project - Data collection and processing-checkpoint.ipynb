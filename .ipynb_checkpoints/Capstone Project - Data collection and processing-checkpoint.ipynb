{
 "cells": [
  {
   "cell_type": "code",
   "execution_count": 1,
   "metadata": {},
   "outputs": [],
   "source": [
    "import pandas as pd"
   ]
  },
  {
   "cell_type": "code",
   "execution_count": null,
   "metadata": {},
   "outputs": [],
   "source": [
    "nyc_neighborhoods = pd.read_html('https://en.wikipedia.org/wiki/Neighborhoods_in_New_York_City')[0]\n",
    "print(nyc_neighborhoods.shape)\n",
    "nyc_neighborhoods\n"
   ]
  },
  {
   "cell_type": "code",
   "execution_count": 3,
   "metadata": {},
   "outputs": [],
   "source": [
    "from geopy.geocoders import Nominatim\n",
    "import requests"
   ]
  },
  {
   "cell_type": "markdown",
   "metadata": {},
   "source": [
    "---"
   ]
  },
  {
   "cell_type": "code",
   "execution_count": 41,
   "metadata": {},
   "outputs": [],
   "source": [
    "nyc_median_income = pd.read_csv('data/nyc-sub-borougharea-medianhouseholdincome2018.csv').iloc[:,[2,-1]]"
   ]
  },
  {
   "cell_type": "code",
   "execution_count": 35,
   "metadata": {},
   "outputs": [
    {
     "data": {
      "text/html": [
       "<div>\n",
       "<style scoped>\n",
       "    .dataframe tbody tr th:only-of-type {\n",
       "        vertical-align: middle;\n",
       "    }\n",
       "\n",
       "    .dataframe tbody tr th {\n",
       "        vertical-align: top;\n",
       "    }\n",
       "\n",
       "    .dataframe thead th {\n",
       "        text-align: right;\n",
       "    }\n",
       "</style>\n",
       "<table border=\"1\" class=\"dataframe\">\n",
       "  <thead>\n",
       "    <tr style=\"text-align: right;\">\n",
       "      <th></th>\n",
       "      <th>Sub-Borough Area</th>\n",
       "      <th>2017</th>\n",
       "    </tr>\n",
       "  </thead>\n",
       "  <tbody>\n",
       "    <tr>\n",
       "      <th>0</th>\n",
       "      <td>Stuyvesant Town/Turtle Bay</td>\n",
       "      <td>114526.279245</td>\n",
       "    </tr>\n",
       "    <tr>\n",
       "      <th>1</th>\n",
       "      <td>Upper West Side</td>\n",
       "      <td>126256.807888</td>\n",
       "    </tr>\n",
       "    <tr>\n",
       "      <th>2</th>\n",
       "      <td>Upper East Side</td>\n",
       "      <td>133852.964651</td>\n",
       "    </tr>\n",
       "    <tr>\n",
       "      <th>3</th>\n",
       "      <td>Morningside Heights/Hamilton Heights</td>\n",
       "      <td>51002.475674</td>\n",
       "    </tr>\n",
       "    <tr>\n",
       "      <th>4</th>\n",
       "      <td>Central Harlem</td>\n",
       "      <td>49994.614252</td>\n",
       "    </tr>\n",
       "  </tbody>\n",
       "</table>\n",
       "</div>"
      ],
      "text/plain": [
       "                       Sub-Borough Area           2017\n",
       "0            Stuyvesant Town/Turtle Bay  114526.279245\n",
       "1                       Upper West Side  126256.807888\n",
       "2                       Upper East Side  133852.964651\n",
       "3  Morningside Heights/Hamilton Heights   51002.475674\n",
       "4                        Central Harlem   49994.614252"
      ]
     },
     "execution_count": 35,
     "metadata": {},
     "output_type": "execute_result"
    }
   ],
   "source": [
    "nyc_median_income.head()"
   ]
  },
  {
   "cell_type": "code",
   "execution_count": 56,
   "metadata": {},
   "outputs": [
    {
     "name": "stdout",
     "output_type": "stream",
     "text": [
      "The geograpical coordinate of New York City are 40.7319711, -73.978092781304.\n"
     ]
    }
   ],
   "source": [
    "address = 'Stuyvesant Town, New York City, NY'\n",
    "\n",
    "geolocator = Nominatim(user_agent=\"ny_explorer\")\n",
    "location = geolocator.geocode(address)\n",
    "latitude = location.latitude\n",
    "longitude = location.longitude\n",
    "print('The geograpical coordinate of New York City are {}, {}.'.format(latitude, longitude))"
   ]
  },
  {
   "cell_type": "code",
   "execution_count": 72,
   "metadata": {},
   "outputs": [
    {
     "data": {
      "text/plain": [
       "nan"
      ]
     },
     "execution_count": 72,
     "metadata": {},
     "output_type": "execute_result"
    }
   ],
   "source": [
    "np.mean([])"
   ]
  },
  {
   "cell_type": "code",
   "execution_count": 74,
   "metadata": {},
   "outputs": [
    {
     "name": "stdout",
     "output_type": "stream",
     "text": [
      "0:\t[40.7319711, 40.7534666], [-73.978092781304, -73.9688659].\n",
      "1:\t[40.7870455], [-73.9754163].\n",
      "2:\t[40.7737016], [-73.9641196].\n",
      "3:\t[40.81, 40.8241451], [-73.9625, -73.9500618].\n",
      "4:\t[40.8078786], [-73.9454154].\n",
      "5:\t[40.7947222], [-73.9425].\n",
      "6:\t[40.8401984, 40.8692579], [-73.9402214, -73.9204949].\n",
      "7:\t[40.8089897, 40.8126008], [-73.9229147, -73.8840247].\n",
      "8:\t[40.8292672, 40.8552778], [-73.9065253, -73.8863889].\n",
      "9:\t[40.8460552], [-73.9297329337184].\n",
      "10:\t[40.8601, 40.8592667], [-73.909303, -73.8984694].\n",
      "11:\t[40.8725702, 40.8797256], [-73.9026619, -73.8846982].\n",
      "12:\t[40.90056, 40.8787051], [-73.90639, -73.9051408].\n",
      "13:\t[40.8294972, 40.8389893], [-73.8746243, -73.8604128].\n",
      "14:\t[40.8226008, 40.8738889], [-73.8195784, -73.8294444].\n",
      "15:\t[40.8592334], [-73.8550166].\n",
      "16:\t[40.8772494, 40.8612222], [-73.8655145, -73.8412865].\n",
      "17:\t[40.714622, 40.7237134], [-73.95345, -73.9509714].\n",
      "18:\t[40.7319802, 40.7076124], [-73.9965658, -74.009378].\n",
      "19:\t[40.7159357, 40.7164913], [-73.9868057, -73.9962504].\n",
      "20:\t[40.7464906, 40.7644228, 40.7622684], [-74.0015283, -73.9923918, -73.9795443].\n",
      "21:\t[40.6537148], [-73.9304151].\n",
      "22:\t[40.6212155, 40.643715], [-73.9348597, -73.9006921].\n",
      "23:\t[40.69608485, 40.6907711], [-73.9950278391265, -73.9766245].\n",
      "24:\t[40.6834364], [-73.9412488].\n",
      "25:\t[40.6942696], [-73.9187482].\n",
      "26:\t[40.6667702, 40.6478541], [-73.8823583, -73.8795154568842].\n",
      "27:\t[40.6701033, 40.6784201], [-73.9859723, -73.9948021].\n",
      "28:\t[40.644337], [-74.007532].\n",
      "29:\t[40.667471, 40.6778708], [-73.9435662, -73.9684725].\n",
      "30:\t[40.667471], [-73.9435662].\n",
      "31:\t[40.630188], [-74.0271902].\n",
      "32:\t[40.6049772], [-73.9934061].\n",
      "33:\t[40.633993], [-73.9968059].\n",
      "34:\t[40.575789], [-73.985145].\n",
      "35:\t[40.6520481], [-73.959027].\n",
      "36:\t[40.5912161, 40.5961338], [-73.9445822, -73.9739426].\n",
      "37:\t[40.6672357, 40.6757317], [-73.9067979, -73.9124338].\n",
      "38:\t[40.7720145], [-73.9302673].\n",
      "39:\t[40.7398242, 40.7461604], [-73.9354153, -73.9032853].\n",
      "40:\t[40.7556561], [-73.8857755].\n",
      "41:\t[40.7365804, 40.7469593], [-73.8783932, -73.8601456].\n",
      "42:\t[40.7182153, 40.7080556], [-73.8786698186696, -73.9141667].\n",
      "43:\t[40.72293705, 40.7195766], [-73.8622065151304, -73.8448686].\n",
      "44:\t[40.744181, 40.7945457], [-73.8358541, -73.8184674].\n",
      "45:\t[42.3792319, 40.73613835], [-78.2052895, -73.7800816557486].\n",
      "46:\t[40.67677, 40.6892698], [-73.8437461, -73.8579131].\n",
      "47:\t[40.6701035, 40.6578815], [-73.8190231, -73.8362459].\n",
      "48:\t[40.7684351, 40.7620463], [-73.7770774, -73.7381874].\n",
      "49:\t[40.6914852], [-73.8056771].\n",
      "50:\t[40.7267692], [-73.7415208].\n",
      "51:\t[40.58937475], [-73.8015675874329].\n",
      "52:\t[44.0347778], [-76.2788215].\n",
      "53:\t[40.6220596], [-73.5185421].\n",
      "54:\t[], [].\n"
     ]
    }
   ],
   "source": [
    "import numpy as np\n",
    "\n",
    "\n",
    "geolocator = Nominatim(user_agent=\"ny_explorer\")\n",
    "\n",
    "for i in nyc_median_income.index:\n",
    "    lat, lng = [], []\n",
    "    names = nyc_median_income.loc[i,'Sub-Borough Area'].split('/')\n",
    "    for name in names:\n",
    "        location = geolocator.geocode(name + ', New York City, NY')\n",
    "        if location is not None:\n",
    "            lat.append(location.latitude)\n",
    "            lng.append(location.longitude)\n",
    "    print('{}:\\t{}, {}.'.format(i, lat, lng))\n",
    "    if len(lat) > 0:\n",
    "        nyc_median_income.loc[i,'Latitude'] = np.mean(lat)\n",
    "        nyc_median_income.loc[i,'Longitude'] = np.mean(lng)"
   ]
  },
  {
   "cell_type": "code",
   "execution_count": 75,
   "metadata": {},
   "outputs": [
    {
     "data": {
      "text/html": [
       "<div>\n",
       "<style scoped>\n",
       "    .dataframe tbody tr th:only-of-type {\n",
       "        vertical-align: middle;\n",
       "    }\n",
       "\n",
       "    .dataframe tbody tr th {\n",
       "        vertical-align: top;\n",
       "    }\n",
       "\n",
       "    .dataframe thead th {\n",
       "        text-align: right;\n",
       "    }\n",
       "</style>\n",
       "<table border=\"1\" class=\"dataframe\">\n",
       "  <thead>\n",
       "    <tr style=\"text-align: right;\">\n",
       "      <th></th>\n",
       "      <th>Sub-Borough Area</th>\n",
       "      <th>2017</th>\n",
       "      <th>Latitude</th>\n",
       "      <th>Longitude</th>\n",
       "    </tr>\n",
       "  </thead>\n",
       "  <tbody>\n",
       "    <tr>\n",
       "      <th>0</th>\n",
       "      <td>Stuyvesant Town/Turtle Bay</td>\n",
       "      <td>114526.279245</td>\n",
       "      <td>40.742719</td>\n",
       "      <td>-73.973479</td>\n",
       "    </tr>\n",
       "    <tr>\n",
       "      <th>1</th>\n",
       "      <td>Upper West Side</td>\n",
       "      <td>126256.807888</td>\n",
       "      <td>40.787045</td>\n",
       "      <td>-73.975416</td>\n",
       "    </tr>\n",
       "    <tr>\n",
       "      <th>2</th>\n",
       "      <td>Upper East Side</td>\n",
       "      <td>133852.964651</td>\n",
       "      <td>40.773702</td>\n",
       "      <td>-73.964120</td>\n",
       "    </tr>\n",
       "    <tr>\n",
       "      <th>3</th>\n",
       "      <td>Morningside Heights/Hamilton Heights</td>\n",
       "      <td>51002.475674</td>\n",
       "      <td>40.817073</td>\n",
       "      <td>-73.956281</td>\n",
       "    </tr>\n",
       "    <tr>\n",
       "      <th>4</th>\n",
       "      <td>Central Harlem</td>\n",
       "      <td>49994.614252</td>\n",
       "      <td>40.807879</td>\n",
       "      <td>-73.945415</td>\n",
       "    </tr>\n",
       "    <tr>\n",
       "      <th>5</th>\n",
       "      <td>East Harlem</td>\n",
       "      <td>37471.248212</td>\n",
       "      <td>40.794722</td>\n",
       "      <td>-73.942500</td>\n",
       "    </tr>\n",
       "    <tr>\n",
       "      <th>6</th>\n",
       "      <td>Washington Heights/Inwood</td>\n",
       "      <td>57457.272687</td>\n",
       "      <td>40.854728</td>\n",
       "      <td>-73.930358</td>\n",
       "    </tr>\n",
       "    <tr>\n",
       "      <th>7</th>\n",
       "      <td>Mott Haven/Hunts Point</td>\n",
       "      <td>21365.846887</td>\n",
       "      <td>40.810795</td>\n",
       "      <td>-73.903470</td>\n",
       "    </tr>\n",
       "    <tr>\n",
       "      <th>8</th>\n",
       "      <td>Morrisania/Belmont</td>\n",
       "      <td>26467.317339</td>\n",
       "      <td>40.842272</td>\n",
       "      <td>-73.896457</td>\n",
       "    </tr>\n",
       "    <tr>\n",
       "      <th>9</th>\n",
       "      <td>Highbridge/South Concourse</td>\n",
       "      <td>31489.300238</td>\n",
       "      <td>40.846055</td>\n",
       "      <td>-73.929733</td>\n",
       "    </tr>\n",
       "    <tr>\n",
       "      <th>10</th>\n",
       "      <td>University Heights/Fordham</td>\n",
       "      <td>30741.301974</td>\n",
       "      <td>40.859683</td>\n",
       "      <td>-73.903886</td>\n",
       "    </tr>\n",
       "    <tr>\n",
       "      <th>11</th>\n",
       "      <td>Kingsbridge Heights/Mosholu</td>\n",
       "      <td>36029.262457</td>\n",
       "      <td>40.876148</td>\n",
       "      <td>-73.893680</td>\n",
       "    </tr>\n",
       "    <tr>\n",
       "      <th>12</th>\n",
       "      <td>Riverdale/Kingsbridge</td>\n",
       "      <td>55015.578080</td>\n",
       "      <td>40.889633</td>\n",
       "      <td>-73.905765</td>\n",
       "    </tr>\n",
       "    <tr>\n",
       "      <th>13</th>\n",
       "      <td>Soundview/Parkchester</td>\n",
       "      <td>40767.943561</td>\n",
       "      <td>40.834243</td>\n",
       "      <td>-73.867519</td>\n",
       "    </tr>\n",
       "    <tr>\n",
       "      <th>14</th>\n",
       "      <td>Throgs Neck/Co-op City</td>\n",
       "      <td>60657.156271</td>\n",
       "      <td>40.848245</td>\n",
       "      <td>-73.824511</td>\n",
       "    </tr>\n",
       "    <tr>\n",
       "      <th>15</th>\n",
       "      <td>Pelham Parkway</td>\n",
       "      <td>48933.761128</td>\n",
       "      <td>40.859233</td>\n",
       "      <td>-73.855017</td>\n",
       "    </tr>\n",
       "    <tr>\n",
       "      <th>16</th>\n",
       "      <td>Williamsbridge/Baychester</td>\n",
       "      <td>59893.871939</td>\n",
       "      <td>40.869236</td>\n",
       "      <td>-73.853400</td>\n",
       "    </tr>\n",
       "    <tr>\n",
       "      <th>17</th>\n",
       "      <td>Williamsburg/Greenpoint</td>\n",
       "      <td>78069.006882</td>\n",
       "      <td>40.719168</td>\n",
       "      <td>-73.952211</td>\n",
       "    </tr>\n",
       "    <tr>\n",
       "      <th>18</th>\n",
       "      <td>Greenwich Village/Financial District</td>\n",
       "      <td>147640.998056</td>\n",
       "      <td>40.719796</td>\n",
       "      <td>-74.002972</td>\n",
       "    </tr>\n",
       "    <tr>\n",
       "      <th>19</th>\n",
       "      <td>Lower East Side/Chinatown</td>\n",
       "      <td>40338.914584</td>\n",
       "      <td>40.716214</td>\n",
       "      <td>-73.991528</td>\n",
       "    </tr>\n",
       "    <tr>\n",
       "      <th>20</th>\n",
       "      <td>Chelsea/Clinton/Midtown</td>\n",
       "      <td>103925.900570</td>\n",
       "      <td>40.757727</td>\n",
       "      <td>-73.991155</td>\n",
       "    </tr>\n",
       "    <tr>\n",
       "      <th>21</th>\n",
       "      <td>East Flatbush</td>\n",
       "      <td>50290.144902</td>\n",
       "      <td>40.653715</td>\n",
       "      <td>-73.930415</td>\n",
       "    </tr>\n",
       "    <tr>\n",
       "      <th>22</th>\n",
       "      <td>Flatlands/Canarsie</td>\n",
       "      <td>78108.750659</td>\n",
       "      <td>40.632465</td>\n",
       "      <td>-73.917776</td>\n",
       "    </tr>\n",
       "    <tr>\n",
       "      <th>23</th>\n",
       "      <td>Brooklyn Heights/Fort Greene</td>\n",
       "      <td>94327.268889</td>\n",
       "      <td>40.693428</td>\n",
       "      <td>-73.985826</td>\n",
       "    </tr>\n",
       "    <tr>\n",
       "      <th>24</th>\n",
       "      <td>Bedford Stuyvesant</td>\n",
       "      <td>52896.929044</td>\n",
       "      <td>40.683436</td>\n",
       "      <td>-73.941249</td>\n",
       "    </tr>\n",
       "    <tr>\n",
       "      <th>25</th>\n",
       "      <td>Bushwick</td>\n",
       "      <td>51622.070967</td>\n",
       "      <td>40.694270</td>\n",
       "      <td>-73.918748</td>\n",
       "    </tr>\n",
       "    <tr>\n",
       "      <th>26</th>\n",
       "      <td>East New York/Starrett City</td>\n",
       "      <td>37487.553352</td>\n",
       "      <td>40.657312</td>\n",
       "      <td>-73.880937</td>\n",
       "    </tr>\n",
       "    <tr>\n",
       "      <th>27</th>\n",
       "      <td>Park Slope/Carroll Gardens</td>\n",
       "      <td>137374.874736</td>\n",
       "      <td>40.674262</td>\n",
       "      <td>-73.990387</td>\n",
       "    </tr>\n",
       "    <tr>\n",
       "      <th>28</th>\n",
       "      <td>Sunset Park</td>\n",
       "      <td>57869.996525</td>\n",
       "      <td>40.644337</td>\n",
       "      <td>-74.007532</td>\n",
       "    </tr>\n",
       "    <tr>\n",
       "      <th>29</th>\n",
       "      <td>North Crown Heights/Prospect Heights</td>\n",
       "      <td>61253.312926</td>\n",
       "      <td>40.672671</td>\n",
       "      <td>-73.956019</td>\n",
       "    </tr>\n",
       "    <tr>\n",
       "      <th>30</th>\n",
       "      <td>South Crown Heights</td>\n",
       "      <td>52046.004588</td>\n",
       "      <td>40.667471</td>\n",
       "      <td>-73.943566</td>\n",
       "    </tr>\n",
       "    <tr>\n",
       "      <th>31</th>\n",
       "      <td>Bay Ridge</td>\n",
       "      <td>69988.791297</td>\n",
       "      <td>40.630188</td>\n",
       "      <td>-74.027190</td>\n",
       "    </tr>\n",
       "    <tr>\n",
       "      <th>32</th>\n",
       "      <td>Bensonhurst</td>\n",
       "      <td>54513.175976</td>\n",
       "      <td>40.604977</td>\n",
       "      <td>-73.993406</td>\n",
       "    </tr>\n",
       "    <tr>\n",
       "      <th>33</th>\n",
       "      <td>Borough Park</td>\n",
       "      <td>46229.146149</td>\n",
       "      <td>40.633993</td>\n",
       "      <td>-73.996806</td>\n",
       "    </tr>\n",
       "    <tr>\n",
       "      <th>34</th>\n",
       "      <td>Coney Island</td>\n",
       "      <td>36806.813787</td>\n",
       "      <td>40.575789</td>\n",
       "      <td>-73.985145</td>\n",
       "    </tr>\n",
       "    <tr>\n",
       "      <th>35</th>\n",
       "      <td>Flatbush</td>\n",
       "      <td>57678.411139</td>\n",
       "      <td>40.652048</td>\n",
       "      <td>-73.959027</td>\n",
       "    </tr>\n",
       "    <tr>\n",
       "      <th>36</th>\n",
       "      <td>Sheepshead Bay/Gravesend</td>\n",
       "      <td>62442.569023</td>\n",
       "      <td>40.593675</td>\n",
       "      <td>-73.959262</td>\n",
       "    </tr>\n",
       "    <tr>\n",
       "      <th>37</th>\n",
       "      <td>Brownsville/Ocean Hill</td>\n",
       "      <td>20640.268189</td>\n",
       "      <td>40.671484</td>\n",
       "      <td>-73.909616</td>\n",
       "    </tr>\n",
       "    <tr>\n",
       "      <th>38</th>\n",
       "      <td>Astoria</td>\n",
       "      <td>67647.984739</td>\n",
       "      <td>40.772014</td>\n",
       "      <td>-73.930267</td>\n",
       "    </tr>\n",
       "    <tr>\n",
       "      <th>39</th>\n",
       "      <td>Sunnyside/Woodside</td>\n",
       "      <td>68643.617306</td>\n",
       "      <td>40.742992</td>\n",
       "      <td>-73.919350</td>\n",
       "    </tr>\n",
       "    <tr>\n",
       "      <th>40</th>\n",
       "      <td>Jackson Heights</td>\n",
       "      <td>57680.449281</td>\n",
       "      <td>40.755656</td>\n",
       "      <td>-73.885775</td>\n",
       "    </tr>\n",
       "    <tr>\n",
       "      <th>41</th>\n",
       "      <td>Elmhurst/Corona</td>\n",
       "      <td>52983.550097</td>\n",
       "      <td>40.741770</td>\n",
       "      <td>-73.869269</td>\n",
       "    </tr>\n",
       "    <tr>\n",
       "      <th>42</th>\n",
       "      <td>Middle Village/Ridgewood</td>\n",
       "      <td>72592.518226</td>\n",
       "      <td>40.713135</td>\n",
       "      <td>-73.896418</td>\n",
       "    </tr>\n",
       "    <tr>\n",
       "      <th>43</th>\n",
       "      <td>Rego Park/Forest Hills</td>\n",
       "      <td>76885.865213</td>\n",
       "      <td>40.721257</td>\n",
       "      <td>-73.853538</td>\n",
       "    </tr>\n",
       "    <tr>\n",
       "      <th>44</th>\n",
       "      <td>Flushing/Whitestone</td>\n",
       "      <td>52262.047684</td>\n",
       "      <td>40.769363</td>\n",
       "      <td>-73.827161</td>\n",
       "    </tr>\n",
       "    <tr>\n",
       "      <th>45</th>\n",
       "      <td>Hillcrest/Fresh Meadows</td>\n",
       "      <td>65225.652484</td>\n",
       "      <td>41.557685</td>\n",
       "      <td>-75.992686</td>\n",
       "    </tr>\n",
       "    <tr>\n",
       "      <th>46</th>\n",
       "      <td>Ozone Park/Woodhaven</td>\n",
       "      <td>71249.382377</td>\n",
       "      <td>40.683020</td>\n",
       "      <td>-73.850830</td>\n",
       "    </tr>\n",
       "    <tr>\n",
       "      <th>47</th>\n",
       "      <td>South Ozone Park/Howard Beach</td>\n",
       "      <td>75300.190418</td>\n",
       "      <td>40.663993</td>\n",
       "      <td>-73.827634</td>\n",
       "    </tr>\n",
       "    <tr>\n",
       "      <th>48</th>\n",
       "      <td>Bayside/Little Neck</td>\n",
       "      <td>71492.940396</td>\n",
       "      <td>40.765241</td>\n",
       "      <td>-73.757632</td>\n",
       "    </tr>\n",
       "    <tr>\n",
       "      <th>49</th>\n",
       "      <td>Jamaica</td>\n",
       "      <td>62846.121220</td>\n",
       "      <td>40.691485</td>\n",
       "      <td>-73.805677</td>\n",
       "    </tr>\n",
       "    <tr>\n",
       "      <th>50</th>\n",
       "      <td>Queens Village</td>\n",
       "      <td>87494.396458</td>\n",
       "      <td>40.726769</td>\n",
       "      <td>-73.741521</td>\n",
       "    </tr>\n",
       "    <tr>\n",
       "      <th>51</th>\n",
       "      <td>Rockaways</td>\n",
       "      <td>55042.073931</td>\n",
       "      <td>40.589375</td>\n",
       "      <td>-73.801568</td>\n",
       "    </tr>\n",
       "    <tr>\n",
       "      <th>52</th>\n",
       "      <td>North Shore</td>\n",
       "      <td>64069.006666</td>\n",
       "      <td>44.034778</td>\n",
       "      <td>-76.278822</td>\n",
       "    </tr>\n",
       "    <tr>\n",
       "      <th>53</th>\n",
       "      <td>Mid-Island</td>\n",
       "      <td>83041.055292</td>\n",
       "      <td>40.622060</td>\n",
       "      <td>-73.518542</td>\n",
       "    </tr>\n",
       "    <tr>\n",
       "      <th>54</th>\n",
       "      <td>South Shore</td>\n",
       "      <td>98642.016371</td>\n",
       "      <td>NaN</td>\n",
       "      <td>NaN</td>\n",
       "    </tr>\n",
       "  </tbody>\n",
       "</table>\n",
       "</div>"
      ],
      "text/plain": [
       "                        Sub-Borough Area           2017   Latitude  Longitude\n",
       "0             Stuyvesant Town/Turtle Bay  114526.279245  40.742719 -73.973479\n",
       "1                        Upper West Side  126256.807888  40.787045 -73.975416\n",
       "2                        Upper East Side  133852.964651  40.773702 -73.964120\n",
       "3   Morningside Heights/Hamilton Heights   51002.475674  40.817073 -73.956281\n",
       "4                         Central Harlem   49994.614252  40.807879 -73.945415\n",
       "5                            East Harlem   37471.248212  40.794722 -73.942500\n",
       "6              Washington Heights/Inwood   57457.272687  40.854728 -73.930358\n",
       "7                 Mott Haven/Hunts Point   21365.846887  40.810795 -73.903470\n",
       "8                     Morrisania/Belmont   26467.317339  40.842272 -73.896457\n",
       "9             Highbridge/South Concourse   31489.300238  40.846055 -73.929733\n",
       "10            University Heights/Fordham   30741.301974  40.859683 -73.903886\n",
       "11           Kingsbridge Heights/Mosholu   36029.262457  40.876148 -73.893680\n",
       "12                 Riverdale/Kingsbridge   55015.578080  40.889633 -73.905765\n",
       "13                 Soundview/Parkchester   40767.943561  40.834243 -73.867519\n",
       "14                Throgs Neck/Co-op City   60657.156271  40.848245 -73.824511\n",
       "15                        Pelham Parkway   48933.761128  40.859233 -73.855017\n",
       "16             Williamsbridge/Baychester   59893.871939  40.869236 -73.853400\n",
       "17               Williamsburg/Greenpoint   78069.006882  40.719168 -73.952211\n",
       "18  Greenwich Village/Financial District  147640.998056  40.719796 -74.002972\n",
       "19             Lower East Side/Chinatown   40338.914584  40.716214 -73.991528\n",
       "20               Chelsea/Clinton/Midtown  103925.900570  40.757727 -73.991155\n",
       "21                         East Flatbush   50290.144902  40.653715 -73.930415\n",
       "22                    Flatlands/Canarsie   78108.750659  40.632465 -73.917776\n",
       "23          Brooklyn Heights/Fort Greene   94327.268889  40.693428 -73.985826\n",
       "24                    Bedford Stuyvesant   52896.929044  40.683436 -73.941249\n",
       "25                              Bushwick   51622.070967  40.694270 -73.918748\n",
       "26           East New York/Starrett City   37487.553352  40.657312 -73.880937\n",
       "27            Park Slope/Carroll Gardens  137374.874736  40.674262 -73.990387\n",
       "28                           Sunset Park   57869.996525  40.644337 -74.007532\n",
       "29  North Crown Heights/Prospect Heights   61253.312926  40.672671 -73.956019\n",
       "30                   South Crown Heights   52046.004588  40.667471 -73.943566\n",
       "31                             Bay Ridge   69988.791297  40.630188 -74.027190\n",
       "32                           Bensonhurst   54513.175976  40.604977 -73.993406\n",
       "33                          Borough Park   46229.146149  40.633993 -73.996806\n",
       "34                          Coney Island   36806.813787  40.575789 -73.985145\n",
       "35                              Flatbush   57678.411139  40.652048 -73.959027\n",
       "36              Sheepshead Bay/Gravesend   62442.569023  40.593675 -73.959262\n",
       "37                Brownsville/Ocean Hill   20640.268189  40.671484 -73.909616\n",
       "38                               Astoria   67647.984739  40.772014 -73.930267\n",
       "39                    Sunnyside/Woodside   68643.617306  40.742992 -73.919350\n",
       "40                       Jackson Heights   57680.449281  40.755656 -73.885775\n",
       "41                       Elmhurst/Corona   52983.550097  40.741770 -73.869269\n",
       "42              Middle Village/Ridgewood   72592.518226  40.713135 -73.896418\n",
       "43                Rego Park/Forest Hills   76885.865213  40.721257 -73.853538\n",
       "44                   Flushing/Whitestone   52262.047684  40.769363 -73.827161\n",
       "45               Hillcrest/Fresh Meadows   65225.652484  41.557685 -75.992686\n",
       "46                  Ozone Park/Woodhaven   71249.382377  40.683020 -73.850830\n",
       "47         South Ozone Park/Howard Beach   75300.190418  40.663993 -73.827634\n",
       "48                   Bayside/Little Neck   71492.940396  40.765241 -73.757632\n",
       "49                               Jamaica   62846.121220  40.691485 -73.805677\n",
       "50                        Queens Village   87494.396458  40.726769 -73.741521\n",
       "51                             Rockaways   55042.073931  40.589375 -73.801568\n",
       "52                           North Shore   64069.006666  44.034778 -76.278822\n",
       "53                            Mid-Island   83041.055292  40.622060 -73.518542\n",
       "54                           South Shore   98642.016371        NaN        NaN"
      ]
     },
     "execution_count": 75,
     "metadata": {},
     "output_type": "execute_result"
    }
   ],
   "source": [
    "nyc_median_income"
   ]
  },
  {
   "cell_type": "code",
   "execution_count": null,
   "metadata": {},
   "outputs": [],
   "source": []
  },
  {
   "cell_type": "markdown",
   "metadata": {},
   "source": [
    "https://catalog.data.gov/dataset/neighborhood-names-gis\n",
    "\n"
   ]
  },
  {
   "cell_type": "code",
   "execution_count": 85,
   "metadata": {},
   "outputs": [
    {
     "name": "stdout",
     "output_type": "stream",
     "text": [
      "Neighborhood Names GIS.json was imported successfully!\n"
     ]
    }
   ],
   "source": [
    "!wget -q -O \"data//Neighborhood Names GIS.json\" https://data.cityofnewyork.us/api/views/xyye-rtrs/rows.json?accessType=DOWNLOAD\n",
    "print('Neighborhood Names GIS.json was imported successfully!')"
   ]
  },
  {
   "cell_type": "markdown",
   "metadata": {},
   "source": [
    "Boundaries of Neighborhood Tabulation Areas  \n",
    "https://catalog.data.gov/dataset/neighborhood-tabulation-areas/resource/ea539dc4-f912-44f5-85d7-da2ec41465bd"
   ]
  },
  {
   "cell_type": "code",
   "execution_count": 85,
   "metadata": {},
   "outputs": [
    {
     "name": "stdout",
     "output_type": "stream",
     "text": [
      "Neighborhood Names GIS.json was imported successfully!\n"
     ]
    }
   ],
   "source": [
    "!wget -q -O \"data//Neighborhood Names GIS.json\" https://data.cityofnewyork.us/api/views/q2z5-ai38/rows.json?accessType=DOWNLOAD\n",
    "print('Neighborhood Names GIS.json was imported successfully!')"
   ]
  },
  {
   "cell_type": "code",
   "execution_count": null,
   "metadata": {},
   "outputs": [],
   "source": []
  },
  {
   "cell_type": "markdown",
   "metadata": {},
   "source": [
    "2010 Census Tracts (water areas included)  \n",
    "https://catalog.data.gov/dataset/2010-census-tracts-water-areas-included"
   ]
  },
  {
   "cell_type": "code",
   "execution_count": 87,
   "metadata": {},
   "outputs": [
    {
     "name": "stdout",
     "output_type": "stream",
     "text": [
      "Census Tracts.json was imported successfully!\n"
     ]
    }
   ],
   "source": [
    "!wget -q -O \"data//Census Tracts.json\" https://data.cityofnewyork.us/api/views/ghm7-s8ah/rows.json?accessType=DOWNLOAD\n",
    "print('Census Tracts.json was imported successfully!')"
   ]
  },
  {
   "cell_type": "markdown",
   "metadata": {},
   "source": [
    "CSV  \n",
    "\n",
    "https://data.cityofnewyork.us/api/views/ghm7-s8ah/rows.csv?accessType=DOWNLOAD"
   ]
  },
  {
   "cell_type": "code",
   "execution_count": 86,
   "metadata": {},
   "outputs": [
    {
     "name": "stdout",
     "output_type": "stream",
     "text": [
      "GeoJSON file downloaded!\n"
     ]
    }
   ],
   "source": [
    "# download countries geojson file\n",
    "!wget --quiet https://s3-api.us-geo.objectstorage.softlayer.net/cf-courses-data/CognitiveClass/DV0101EN/labs/Data_Files/world_countries.json -O world_countries.json\n",
    "    \n",
    "print('GeoJSON file downloaded!')"
   ]
  },
  {
   "cell_type": "markdown",
   "metadata": {},
   "source": [
    "---"
   ]
  },
  {
   "cell_type": "code",
   "execution_count": 3,
   "metadata": {
    "scrolled": true
   },
   "outputs": [
    {
     "data": {
      "text/html": [
       "<div>\n",
       "<style scoped>\n",
       "    .dataframe tbody tr th:only-of-type {\n",
       "        vertical-align: middle;\n",
       "    }\n",
       "\n",
       "    .dataframe tbody tr th {\n",
       "        vertical-align: top;\n",
       "    }\n",
       "\n",
       "    .dataframe thead th {\n",
       "        text-align: right;\n",
       "    }\n",
       "</style>\n",
       "<table border=\"1\" class=\"dataframe\">\n",
       "  <thead>\n",
       "    <tr style=\"text-align: right;\">\n",
       "      <th></th>\n",
       "      <th>BoroCode</th>\n",
       "      <th>CTLabel</th>\n",
       "      <th>the_geom</th>\n",
       "      <th>BoroName</th>\n",
       "      <th>CT2010</th>\n",
       "      <th>BoroCT2010</th>\n",
       "      <th>CDEligibil</th>\n",
       "      <th>NTACode</th>\n",
       "      <th>NTAName</th>\n",
       "      <th>PUMA</th>\n",
       "      <th>Shape_Leng</th>\n",
       "      <th>Shape_Area</th>\n",
       "    </tr>\n",
       "  </thead>\n",
       "  <tbody>\n",
       "    <tr>\n",
       "      <th>0</th>\n",
       "      <td>5</td>\n",
       "      <td>9.0</td>\n",
       "      <td>MULTIPOLYGON (((-74.08130714211008 40.64074191...</td>\n",
       "      <td>Staten Island</td>\n",
       "      <td>900</td>\n",
       "      <td>5000900</td>\n",
       "      <td>E</td>\n",
       "      <td>SI22</td>\n",
       "      <td>West New Brighton-New Brighton-St. George</td>\n",
       "      <td>3903</td>\n",
       "      <td>7729.016666</td>\n",
       "      <td>2.497010e+06</td>\n",
       "    </tr>\n",
       "    <tr>\n",
       "      <th>1</th>\n",
       "      <td>1</td>\n",
       "      <td>98.0</td>\n",
       "      <td>MULTIPOLYGON (((-73.96653673334279 40.75335025...</td>\n",
       "      <td>Manhattan</td>\n",
       "      <td>9800</td>\n",
       "      <td>1009800</td>\n",
       "      <td>I</td>\n",
       "      <td>MN19</td>\n",
       "      <td>Turtle Bay-East Midtown</td>\n",
       "      <td>3808</td>\n",
       "      <td>5534.199988</td>\n",
       "      <td>1.906016e+06</td>\n",
       "    </tr>\n",
       "    <tr>\n",
       "      <th>2</th>\n",
       "      <td>1</td>\n",
       "      <td>100.0</td>\n",
       "      <td>MULTIPOLYGON (((-73.97075919418829 40.75582485...</td>\n",
       "      <td>Manhattan</td>\n",
       "      <td>10000</td>\n",
       "      <td>1010000</td>\n",
       "      <td>I</td>\n",
       "      <td>MN19</td>\n",
       "      <td>Turtle Bay-East Midtown</td>\n",
       "      <td>3808</td>\n",
       "      <td>5692.168417</td>\n",
       "      <td>1.860938e+06</td>\n",
       "    </tr>\n",
       "  </tbody>\n",
       "</table>\n",
       "</div>"
      ],
      "text/plain": [
       "   BoroCode  CTLabel                                           the_geom  \\\n",
       "0         5      9.0  MULTIPOLYGON (((-74.08130714211008 40.64074191...   \n",
       "1         1     98.0  MULTIPOLYGON (((-73.96653673334279 40.75335025...   \n",
       "2         1    100.0  MULTIPOLYGON (((-73.97075919418829 40.75582485...   \n",
       "\n",
       "        BoroName  CT2010  BoroCT2010 CDEligibil NTACode  \\\n",
       "0  Staten Island     900     5000900          E    SI22   \n",
       "1      Manhattan    9800     1009800          I    MN19   \n",
       "2      Manhattan   10000     1010000          I    MN19   \n",
       "\n",
       "                                     NTAName  PUMA   Shape_Leng    Shape_Area  \n",
       "0  West New Brighton-New Brighton-St. George  3903  7729.016666  2.497010e+06  \n",
       "1                    Turtle Bay-East Midtown  3808  5534.199988  1.906016e+06  \n",
       "2                    Turtle Bay-East Midtown  3808  5692.168417  1.860938e+06  "
      ]
     },
     "execution_count": 3,
     "metadata": {},
     "output_type": "execute_result"
    }
   ],
   "source": [
    "import pandas as pd\n",
    "\n",
    "tracts_2010 = pd.read_csv('data/nyct2010wi.csv')\n",
    "tracts_2010.rename(columns={'the_geom':'Polygon','BoroName':'Borough','BoroCT2010':'ID'}, inplace=True)\n",
    "tracts_2010.head(3)"
   ]
  },
  {
   "cell_type": "code",
   "execution_count": 4,
   "metadata": {},
   "outputs": [
    {
     "name": "stdout",
     "output_type": "stream",
     "text": [
      "[[['-74.08130714211008,40.640741917092754'], ['-74.08110049694088,40.639922825339106'], ['-74.08191207797016,40.6398059117602'], ['-74.08194326579557,40.639933277385516'], ['-74.08204648142987,40.64033852695764'], ['-74.08228199570526,40.640600896453016'], ['-74.08503312179009,40.64019785756613'], ['-74.0872057798552,40.639895367647135'], ['-74.08709163679771,40.64033437636213'], ['-74.08701899114598,40.640613790347864'], ['-74.08682767812013,40.641338023476784'], ['-74.08667746827203,40.64190963276974'], ['-74.08652380457303,40.64256408357222'], ['-74.08575006381034,40.642846120676055'], ['-74.08496857468032,40.643130075816266'], ['-74.0841435240328,40.643430896803714'], ['-74.08207268456387,40.6442076049353'], ['-74.08237118148917,40.644645079481776'], ['-74.08028198256949,40.64479321566102'], ['-74.07920577013243,40.64343078374566'], ['-74.07913504647577,40.6433378990455'], ['-74.07819773831595,40.64211481672276'], ['-74.07884632409665,40.641995568528166'], ['-74.0791223401088,40.64194431928626'], ['-74.07965266950572,40.64185535105022'], ['-74.08055489346589,40.64169150377347'], ['-74.08148001617707,40.641550461625826'], ['-74.08130714211008,40.640741917092754']]]\n",
      "[[['-73.96653673334279,40.75335025612636'], ['-73.96661581765123,40.75324342543939'], ['-73.96897803741389,40.75425053544143'], ['-73.97121704531175,40.75519332425523'], ['-73.97075919418829,40.755824851242494'], ['-73.97031393611448,40.7564530190295'], ['-73.96984859921483,40.75707595750041'], ['-73.96939411311261,40.757699528158426'], ['-73.96893510322617,40.75833009163121'], ['-73.96670187508813,40.75738080380005'], ['-73.9643254354485,40.756381530991106'], ['-73.96478633196509,40.755755731448325'], ['-73.96524094428382,40.75512992861379'], ['-73.9656961990018,40.754505070476604'], ['-73.96615683421628,40.753877850620285'], ['-73.96653673334279,40.75335025612636']]]\n"
     ]
    }
   ],
   "source": [
    "for ind, row in tracts_2010.head(2).iterrows():\n",
    "    coordinates = [[[i.replace(' ',',')] for i in row.the_geom[16:-3].split(', ')]]\n",
    "    print(coordinates)"
   ]
  },
  {
   "cell_type": "code",
   "execution_count": 29,
   "metadata": {},
   "outputs": [
    {
     "data": {
      "text/plain": [
       "0       000900\n",
       "1       009800\n",
       "2       010000\n",
       "3       010200\n",
       "4       010400\n",
       "5       011300\n",
       "6       011402\n",
       "7       013000\n",
       "8       014000\n",
       "9       014801\n",
       "10      018400\n",
       "11      019000\n",
       "12      020600\n",
       "13      007400\n",
       "14      007800\n",
       "15      024900\n",
       "16      026100\n",
       "17      026300\n",
       "18      026700\n",
       "19      026900\n",
       "20      027700\n",
       "21      000501\n",
       "22      004100\n",
       "23      005800\n",
       "24      006000\n",
       "25      006700\n",
       "26      006900\n",
       "27      008000\n",
       "28      009800\n",
       "29      010100\n",
       "         ...  \n",
       "2138    031700\n",
       "2139    000100\n",
       "2140    023000\n",
       "2141    033100\n",
       "2142    036800\n",
       "2143    042600\n",
       "2144    019200\n",
       "2145    094500\n",
       "2146    002100\n",
       "2147    000100\n",
       "2148    008601\n",
       "2149    047700\n",
       "2150    048100\n",
       "2151    070600\n",
       "2152    022800\n",
       "2153    027702\n",
       "2154    006000\n",
       "2155    056500\n",
       "2156    000301\n",
       "2157    000700\n",
       "2158    022401\n",
       "2159    033400\n",
       "2160    095800\n",
       "2161    096000\n",
       "2162    002000\n",
       "2163    007600\n",
       "2164    017800\n",
       "2165    006100\n",
       "2166    006300\n",
       "2167    034000\n",
       "Name: BoroCT2010, Length: 2168, dtype: object"
      ]
     },
     "execution_count": 29,
     "metadata": {},
     "output_type": "execute_result"
    }
   ],
   "source": [
    "tracts_2010.BoroCT2010.astype('str').str[-6:]"
   ]
  },
  {
   "cell_type": "markdown",
   "metadata": {},
   "source": [
    "http://app.coredata.nyc/?mlb=true&ntii=hh_inc_med_adj&ntr=Census%20Tract&mz=14&vtl=https%3A%2F%2Fthefurmancenter.carto.com%2Fu%2Fnyufc%2Fapi%2Fv2%2Fviz%2F98d1f16e-95fd-4e52-a2b1-b7abaf634828%2Fviz.json&mln=true&mlp=false&mlat=40.629111&ptsb=&nty=2013-2017&mb=roadmap&pf=%7B\"subsidies\"%3Atrue%7D&md=table&mlv=false&mlng=-74.03597&btl=Community%20District&atp=neighborhoods#\n",
    "\n",
    "# Median household income (2018$)\n",
    "http://app.coredata.nyc/47c2b2a7-a30f-481d-a65e-10db06084445"
   ]
  },
  {
   "cell_type": "code",
   "execution_count": 5,
   "metadata": {},
   "outputs": [],
   "source": [
    "NYC_median_income = pd.read_csv('data/censustract-medianhouseholdincome2018.csv')"
   ]
  },
  {
   "cell_type": "code",
   "execution_count": 6,
   "metadata": {},
   "outputs": [
    {
     "data": {
      "text/html": [
       "<div>\n",
       "<style scoped>\n",
       "    .dataframe tbody tr th:only-of-type {\n",
       "        vertical-align: middle;\n",
       "    }\n",
       "\n",
       "    .dataframe tbody tr th {\n",
       "        vertical-align: top;\n",
       "    }\n",
       "\n",
       "    .dataframe thead th {\n",
       "        text-align: right;\n",
       "    }\n",
       "</style>\n",
       "<table border=\"1\" class=\"dataframe\">\n",
       "  <thead>\n",
       "    <tr style=\"text-align: right;\">\n",
       "      <th></th>\n",
       "      <th>short_name</th>\n",
       "      <th>long_name</th>\n",
       "      <th>Census Tract</th>\n",
       "      <th>2008-2012</th>\n",
       "      <th>2013-2017</th>\n",
       "    </tr>\n",
       "  </thead>\n",
       "  <tbody>\n",
       "    <tr>\n",
       "      <th>0</th>\n",
       "      <td>hh_inc_med_adj</td>\n",
       "      <td>Median household income (2018$)</td>\n",
       "      <td>36047028300</td>\n",
       "      <td>20387.548019</td>\n",
       "      <td>35378.075957</td>\n",
       "    </tr>\n",
       "    <tr>\n",
       "      <th>1</th>\n",
       "      <td>hh_inc_med_adj</td>\n",
       "      <td>Median household income (2018$)</td>\n",
       "      <td>36047028400</td>\n",
       "      <td>42570.205612</td>\n",
       "      <td>50138.303292</td>\n",
       "    </tr>\n",
       "    <tr>\n",
       "      <th>2</th>\n",
       "      <td>hh_inc_med_adj</td>\n",
       "      <td>Median household income (2018$)</td>\n",
       "      <td>36047028501</td>\n",
       "      <td>108827.840812</td>\n",
       "      <td>93593.537621</td>\n",
       "    </tr>\n",
       "    <tr>\n",
       "      <th>3</th>\n",
       "      <td>hh_inc_med_adj</td>\n",
       "      <td>Median household income (2018$)</td>\n",
       "      <td>36047028502</td>\n",
       "      <td>22833.750443</td>\n",
       "      <td>19209.492217</td>\n",
       "    </tr>\n",
       "    <tr>\n",
       "      <th>4</th>\n",
       "      <td>hh_inc_med_adj</td>\n",
       "      <td>Median household income (2018$)</td>\n",
       "      <td>36047028600</td>\n",
       "      <td>43251.632239</td>\n",
       "      <td>41730.965850</td>\n",
       "    </tr>\n",
       "  </tbody>\n",
       "</table>\n",
       "</div>"
      ],
      "text/plain": [
       "       short_name                        long_name  Census Tract  \\\n",
       "0  hh_inc_med_adj  Median household income (2018$)   36047028300   \n",
       "1  hh_inc_med_adj  Median household income (2018$)   36047028400   \n",
       "2  hh_inc_med_adj  Median household income (2018$)   36047028501   \n",
       "3  hh_inc_med_adj  Median household income (2018$)   36047028502   \n",
       "4  hh_inc_med_adj  Median household income (2018$)   36047028600   \n",
       "\n",
       "       2008-2012     2013-2017  \n",
       "0   20387.548019  35378.075957  \n",
       "1   42570.205612  50138.303292  \n",
       "2  108827.840812  93593.537621  \n",
       "3   22833.750443  19209.492217  \n",
       "4   43251.632239  41730.965850  "
      ]
     },
     "execution_count": 6,
     "metadata": {},
     "output_type": "execute_result"
    }
   ],
   "source": [
    "NYC_median_income.head()"
   ]
  },
  {
   "cell_type": "code",
   "execution_count": 14,
   "metadata": {},
   "outputs": [],
   "source": [
    "NYC_median_income['Income'] = NYC_median_income['2013-2017'].fillna(NYC_median_income['2008-2012'])"
   ]
  },
  {
   "cell_type": "code",
   "execution_count": null,
   "metadata": {},
   "outputs": [],
   "source": [
    "NYC_median_income['ID'] = "
   ]
  },
  {
   "cell_type": "code",
   "execution_count": 35,
   "metadata": {},
   "outputs": [
    {
     "data": {
      "text/plain": [
       "2167"
      ]
     },
     "execution_count": 35,
     "metadata": {},
     "output_type": "execute_result"
    }
   ],
   "source": [
    "len(set(NYC_median_income['Census Tract'].astype('str').str[-8:]))"
   ]
  },
  {
   "cell_type": "code",
   "execution_count": 38,
   "metadata": {},
   "outputs": [
    {
     "data": {
      "text/plain": [
       "36047    761\n",
       "36081    669\n",
       "36005    339\n",
       "36061    288\n",
       "36085    110\n",
       "Name: Census Tract, dtype: int64"
      ]
     },
     "execution_count": 38,
     "metadata": {},
     "output_type": "execute_result"
    }
   ],
   "source": [
    "NYC_median_income['Census Tract'].astype('str').str[:5].value_counts()"
   ]
  },
  {
   "cell_type": "code",
   "execution_count": null,
   "metadata": {},
   "outputs": [],
   "source": []
  },
  {
   "cell_type": "code",
   "execution_count": null,
   "metadata": {},
   "outputs": [],
   "source": []
  },
  {
   "cell_type": "code",
   "execution_count": null,
   "metadata": {},
   "outputs": [],
   "source": []
  },
  {
   "cell_type": "code",
   "execution_count": null,
   "metadata": {},
   "outputs": [],
   "source": []
  },
  {
   "cell_type": "code",
   "execution_count": null,
   "metadata": {},
   "outputs": [],
   "source": []
  },
  {
   "cell_type": "code",
   "execution_count": null,
   "metadata": {},
   "outputs": [],
   "source": []
  },
  {
   "cell_type": "code",
   "execution_count": null,
   "metadata": {},
   "outputs": [],
   "source": []
  },
  {
   "cell_type": "code",
   "execution_count": null,
   "metadata": {},
   "outputs": [],
   "source": []
  },
  {
   "cell_type": "markdown",
   "metadata": {},
   "source": [
    "# Median Household Income 2010, Census Tracts  \n",
    "http://data.beta.nyc/dataset/median-household-income-2010-census-tracts"
   ]
  },
  {
   "cell_type": "code",
   "execution_count": null,
   "metadata": {},
   "outputs": [],
   "source": [
    "!wget -O 'data/NYC.geojson' http://data.beta.nyc//dataset/d6ffa9a4-c598-4b18-8caf-14abde6a5755/resource/74cdcc33-512f-439c-a43e-c09588c4b391/download/60dbe69bcd3640d5bedde86d69ba7666geojsonmedianhouseholdincomecensustract.geojson"
   ]
  },
  {
   "cell_type": "code",
   "execution_count": null,
   "metadata": {},
   "outputs": [],
   "source": [
    "!wget -O 'data/NYC.csv' http://data.beta.nyc//dataset/d6ffa9a4-c598-4b18-8caf-14abde6a5755/resource/5a7c26b5-f8b0-4a3f-87fe-56a9c2ff5692/download/ce0a29b4e12a40e491e547a7603b8611csvmedianhouseholdincomecensustract.csv"
   ]
  },
  {
   "cell_type": "code",
   "execution_count": null,
   "metadata": {},
   "outputs": [],
   "source": []
  },
  {
   "cell_type": "code",
   "execution_count": null,
   "metadata": {},
   "outputs": [],
   "source": []
  },
  {
   "cell_type": "code",
   "execution_count": null,
   "metadata": {},
   "outputs": [],
   "source": []
  },
  {
   "cell_type": "code",
   "execution_count": null,
   "metadata": {},
   "outputs": [],
   "source": []
  },
  {
   "cell_type": "code",
   "execution_count": null,
   "metadata": {},
   "outputs": [],
   "source": []
  }
 ],
 "metadata": {
  "kernelspec": {
   "display_name": "Python 3",
   "language": "python",
   "name": "python3"
  },
  "language_info": {
   "codemirror_mode": {
    "name": "ipython",
    "version": 3
   },
   "file_extension": ".py",
   "mimetype": "text/x-python",
   "name": "python",
   "nbconvert_exporter": "python",
   "pygments_lexer": "ipython3",
   "version": "3.7.2"
  }
 },
 "nbformat": 4,
 "nbformat_minor": 2
}
